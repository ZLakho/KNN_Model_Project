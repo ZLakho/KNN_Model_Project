{
 "cells": [
  {
   "cell_type": "markdown",
   "metadata": {},
   "source": [
    "# Problem Statement \n",
    "- A retail company wants to predict customer purchasing behavior based on their age, salary and past purchase history. The company aims to use K-Nearest Neighbors (KNN) algorithm to classify customers into potential buying groups to personalize marketing strategies. This predictive model will help the company understand and target specific customer segments more effectively, thereby increasing sales and customer satisfaction.\n",
    "\n"
   ]
  },
  {
   "cell_type": "markdown",
   "metadata": {},
   "source": [
    "# K Nearest Neighbour\n",
    "- K Nearest Neighbour is a simple algorithm that stores all the available cases and classifies the new data or case based on a similarity measure."
   ]
  },
  {
   "cell_type": "markdown",
   "metadata": {},
   "source": [
    "- we are using KNN bcz we have to classify here the customers into buying groups\n",
    "- we have 4 features here age,salary, buying groups and past purchase\n"
   ]
  },
  {
   "cell_type": "code",
   "execution_count": 36,
   "metadata": {},
   "outputs": [
    {
     "name": "stdout",
     "output_type": "stream",
     "text": [
      "Accuracy of model is 0.6\n"
     ]
    }
   ],
   "source": [
    "import numpy as np \n",
    "from sklearn.model_selection import train_test_split\n",
    "from sklearn.preprocessing import StandardScaler # make nearby data values standardized\n",
    "from sklearn.neighbors import KNeighborsClassifier\n",
    "\n",
    "# creating 2d-array for data adding features like age,salary and past purchase history\n",
    "data = np.array([\n",
    "    [25,40000,2],\n",
    "    [35,50000,5],\n",
    "    [20,45000,6],\n",
    "    [40,25000,1],\n",
    "    [30,70000,3],\n",
    "    [22,34000,3],\n",
    "    [29,45000,4],\n",
    "    [43,55000,3],\n",
    "    [36,70000,2],\n",
    "    [27,34000,1],\n",
    "    [23,45000,4],\n",
    "    [49,55000,3],\n",
    "    [55,45000,0],\n",
    "    [60,80000,6],\n",
    "    [58,50000,5]\n",
    "                ])\n",
    "\n",
    "# setting labels as low level ,mdeium level and high level\n",
    "# low level will sometimes buy and sometimes no\n",
    "# medium level will probabily buy \n",
    "# high level will definitely buy our products on regular bases\n",
    "labels = np.array([1,2,1,2,2,1,2,2,0,1,0,1,2,1,1])\n",
    "# splitting data\n",
    "X_train , X_test , Y_train , Y_test = train_test_split(data , labels , test_size = 0.3 , random_state = 55)\n",
    "# creating instance\n",
    "scalar = StandardScaler()\n",
    "# standardized and overwritting data\n",
    "X_train = scalar.fit_transform(X_train)\n",
    "X_test = scalar.fit_transform(X_test)\n",
    "# creating instance of KNN model\n",
    "KNN_model = KNeighborsClassifier(n_neighbors = 4)\n",
    "KNN_model.fit(X_train , Y_train)\n",
    "accuracy = KNN_model.score(X_test , Y_test)\n",
    "print(f\"Accuracy of model is {accuracy}\")"
   ]
  },
  {
   "cell_type": "code",
   "execution_count": 38,
   "metadata": {},
   "outputs": [
    {
     "name": "stdout",
     "output_type": "stream",
     "text": [
      "Predicted Score: [2]\n"
     ]
    }
   ],
   "source": [
    "user_input_age = float(input(\"Enter customers age : \"))\n",
    "user_input_salary = float(input(\"Enter customers salary : \"))\n",
    "user_input_past_purchase = float(input(\"Enter past purchases : \"))\n",
    "user_input_transform = scalar.transform([[user_input_age,user_input_salary,user_input_past_purchase]])\n",
    "user_input_predict = KNN_model.predict(user_input_transform)\n",
    "# if result is 0 it means customer belongs to low level \n",
    "# if result is 1 it means customer belongs to medium level\n",
    "# if result is 2 it means customer belongs to high level\n",
    "print(f\"Predicted Score: {user_input_predict}\")"
   ]
  },
  {
   "cell_type": "code",
   "execution_count": null,
   "metadata": {},
   "outputs": [],
   "source": []
  }
 ],
 "metadata": {
  "kernelspec": {
   "display_name": "Python 3",
   "language": "python",
   "name": "python3"
  },
  "language_info": {
   "codemirror_mode": {
    "name": "ipython",
    "version": 3
   },
   "file_extension": ".py",
   "mimetype": "text/x-python",
   "name": "python",
   "nbconvert_exporter": "python",
   "pygments_lexer": "ipython3",
   "version": "3.11.7"
  }
 },
 "nbformat": 4,
 "nbformat_minor": 2
}
